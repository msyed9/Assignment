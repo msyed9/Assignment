{
 "cells": [
  {
   "cell_type": "raw",
   "metadata": {},
   "source": [
    "1.1 Write a Python Program(with class concepts) to find the area of the triangle using the below\n",
    "formula.\n",
    "area = (s*(s-a)*(s-b)*(s-c)) ** 0.5\n",
    "Function to take the length of the sides of triangle from user should be defined in the parent\n",
    "class and function to calculate the area should be defined in subclass."
   ]
  },
  {
   "cell_type": "code",
   "execution_count": 19,
   "metadata": {},
   "outputs": [
    {
     "name": "stdout",
     "output_type": "stream",
     "text": [
      "area of traingale is  17.858821349685986\n"
     ]
    }
   ],
   "source": [
    "class triangle:\n",
    "    def __init__(self,a,b,c):\n",
    "        self.a=a\n",
    "        self.b=b\n",
    "        self.c=c\n",
    "\n",
    "\n",
    "class areaTriangle(triangle):\n",
    "    def __init__(self,a,b,c):\n",
    "        super().__init__(a,b,c)\n",
    "        \n",
    "    def get_area(self):\n",
    "         s = (a+b+c)/2\n",
    "         #print((s*(s-a)*(s-b)*(s-c)) ** 0.5 )\n",
    "         return (s*(s-a)*(s-b)*(s-c)) ** 0.5 \n",
    "    \n",
    "    \n",
    "    \n",
    "area = areaTriangle(1,2,3)\n",
    "print(\"area of traingale is \",area.get_area())"
   ]
  },
  {
   "cell_type": "markdown",
   "metadata": {},
   "source": [
    "1.2 Write a function filter_long_words() that takes a list of words and an integer n and returns\n",
    "the list of words that are longer than n."
   ]
  },
  {
   "cell_type": "code",
   "execution_count": 37,
   "metadata": {},
   "outputs": [
    {
     "name": "stdout",
     "output_type": "stream",
     "text": [
      "['this']\n",
      "['doing']\n",
      "['python', 'program', 'filtering']\n"
     ]
    }
   ],
   "source": [
    "def filter_long_word(word,num):\n",
    "    lst=[]\n",
    "    lst1 = word.split()\n",
    "    for i in lst1:\n",
    "        if(len(i)>num):\n",
    "            lst.append(i)\n",
    "    print(lst)\n",
    "    \n",
    "filter_long_word(\"this is me\",3)\n",
    "filter_long_word(\"how are you doing \",4)\n",
    "filter_long_word(\"python program for filtering long words based on  \",5)\n"
   ]
  },
  {
   "cell_type": "raw",
   "metadata": {},
   "source": [
    "2.1 Write a Python program using function concept that maps list of words into a list of integers\n",
    "representing the lengths of the corresponding words.\n",
    "Hint: If a list [ ab,cde,erty] is passed on to the python function output should come as [2,3,4]\n",
    "Here 2,3 and 4 are the lengths of the words in the list."
   ]
  },
  {
   "cell_type": "code",
   "execution_count": 43,
   "metadata": {},
   "outputs": [
    {
     "data": {
      "text/plain": [
       "[2, 5, 7, 8, 1]"
      ]
     },
     "execution_count": 43,
     "metadata": {},
     "output_type": "execute_result"
    }
   ],
   "source": [
    "def listlength(lst):\n",
    "    lstnum = []\n",
    "    for i in lst:\n",
    "        lstnum.append(len(i))\n",
    "    return lstnum\n",
    "\n",
    "lst1 = ['ab','adsfa','asfsadf','sadfasfa','x']\n",
    "listlength(lst1)"
   ]
  },
  {
   "cell_type": "raw",
   "metadata": {},
   "source": [
    "2.2 Write a Python function which takes a character (i.e. a string of length 1) and returns True if\n",
    "it is a vowel, False otherwise."
   ]
  },
  {
   "cell_type": "code",
   "execution_count": 72,
   "metadata": {},
   "outputs": [
    {
     "name": "stdout",
     "output_type": "stream",
     "text": [
      "please enter a single character\n",
      "b\n",
      "False\n"
     ]
    }
   ],
   "source": [
    "vowels =['a','e','i','o','u']\n",
    "def vowelcheck():\n",
    "    inputchar = input(\"please enter a single character\\n\")\n",
    "    while(len(inputchar)>1):\n",
    "        print(\"single character should be enterred\")\n",
    "        inputchar = input(\"please enter a single character\\n\")\n",
    "        continue\n",
    "    else:\n",
    "        print(inputchar.lower() in vowels)  \n",
    "    \n",
    "    \n",
    "\n",
    "\n",
    "vowelcheck()"
   ]
  },
  {
   "cell_type": "code",
   "execution_count": null,
   "metadata": {},
   "outputs": [],
   "source": []
  }
 ],
 "metadata": {
  "kernelspec": {
   "display_name": "Python 3",
   "language": "python",
   "name": "python3"
  },
  "language_info": {
   "codemirror_mode": {
    "name": "ipython",
    "version": 3
   },
   "file_extension": ".py",
   "mimetype": "text/x-python",
   "name": "python",
   "nbconvert_exporter": "python",
   "pygments_lexer": "ipython3",
   "version": "3.7.7"
  }
 },
 "nbformat": 4,
 "nbformat_minor": 4
}
