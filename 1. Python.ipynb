{
 "cells": [
  {
   "cell_type": "markdown",
   "metadata": {},
   "source": [
    "1. Write a program which will find all such numbers which are divisible by 7 but are not a multiple of 5, \n",
    "between 2000 and 3200 (both included). The numbers obtained should be printed\n",
    "in a comma-separated sequence on a single line.\n"
   ]
  },
  {
   "cell_type": "code",
   "execution_count": 9,
   "metadata": {},
   "outputs": [
    {
     "name": "stdout",
     "output_type": "stream",
     "text": [
      "[2002, 2009, 2016, 2023, 2030, 2037, 2044, 2051, 2058, 2065, 2072, 2079, 2086, 2093, 2100, 2107, 2114, 2121, 2128, 2135, 2142, 2149, 2156, 2163, 2170, 2177, 2184, 2191, 2198, 2205, 2212, 2219, 2226, 2233, 2240, 2247, 2254, 2261, 2268, 2275, 2282, 2289, 2296, 2303, 2310, 2317, 2324, 2331, 2338, 2345, 2352, 2359, 2366, 2373, 2380, 2387, 2394, 2401, 2408, 2415, 2422, 2429, 2436, 2443, 2450, 2457, 2464, 2471, 2478, 2485, 2492, 2499, 2506, 2513, 2520, 2527, 2534, 2541, 2548, 2555, 2562, 2569, 2576, 2583, 2590, 2597, 2604, 2611, 2618, 2625, 2632, 2639, 2646, 2653, 2660, 2667, 2674, 2681, 2688, 2695, 2702, 2709, 2716, 2723, 2730, 2737, 2744, 2751, 2758, 2765, 2772, 2779, 2786, 2793, 2800, 2807, 2814, 2821, 2828, 2835, 2842, 2849, 2856, 2863, 2870, 2877, 2884, 2891, 2898, 2905, 2912, 2919, 2926, 2933, 2940, 2947, 2954, 2961, 2968, 2975, 2982, 2989, 2996, 3003, 3010, 3017, 3024, 3031, 3038, 3045, 3052, 3059, 3066, 3073, 3080, 3087, 3094, 3101, 3108, 3115, 3122, 3129, 3136, 3143, 3150, 3157, 3164, 3171, 3178, 3185, 3192, 3199]\n"
     ]
    }
   ],
   "source": [
    "i=2000\n",
    "j=3200\n",
    "numberDivisibleBy7=[]\n",
    "for k in range (i,j):\n",
    "    if(k % 7 == 0):\n",
    "       numberDivisibleBy7.append(k)\n",
    "print (numberDivisibleBy7)"
   ]
  },
  {
   "cell_type": "raw",
   "metadata": {},
   "source": [
    "2. Write a Python program to accept the user's first and last name and then getting them printed in the the reverse order with a space between first name and last name."
   ]
  },
  {
   "cell_type": "code",
   "execution_count": 16,
   "metadata": {},
   "outputs": [
    {
     "name": "stdout",
     "output_type": "stream",
     "text": [
      "Please enter your first name\n",
      "syed\n",
      "Please enter your last name\n",
      "Mohammed\n",
      "the output in reverse order is \n",
      " Mohammed syed\n"
     ]
    }
   ],
   "source": [
    "firstName=input(\"Please enter your first name\\n\")\n",
    "lastName=input(\"Please enter your last name\\n\")\n",
    "print(\"the output in reverse order is \\n\",lastName,firstName)"
   ]
  },
  {
   "cell_type": "markdown",
   "metadata": {},
   "source": [
    "3. Write a Python program to find the volume of a sphere with diameter 12 cm.\n",
    "Formula: V=4/3 * π * r 3"
   ]
  },
  {
   "cell_type": "code",
   "execution_count": 24,
   "metadata": {},
   "outputs": [
    {
     "name": "stdout",
     "output_type": "stream",
     "text": [
      "Please enter Radius r 3\n",
      "the volume is  113.14285714285712\n"
     ]
    }
   ],
   "source": [
    "\n",
    "import math\n",
    "r=int(input(\"Please enter Radius r \"))\n",
    "\n",
    "Volume = (4/3)* (22/7) * (r * r * r)\n",
    "print(\"the volume is \",Volume)"
   ]
  },
  {
   "cell_type": "code",
   "execution_count": 25,
   "metadata": {},
   "outputs": [
    {
     "data": {
      "text/plain": [
       "float"
      ]
     },
     "execution_count": 25,
     "metadata": {},
     "output_type": "execute_result"
    }
   ],
   "source": [
    "type(Volume)"
   ]
  }
 ],
 "metadata": {
  "kernelspec": {
   "display_name": "Python 3",
   "language": "python",
   "name": "python3"
  },
  "language_info": {
   "codemirror_mode": {
    "name": "ipython",
    "version": 3
   },
   "file_extension": ".py",
   "mimetype": "text/x-python",
   "name": "python",
   "nbconvert_exporter": "python",
   "pygments_lexer": "ipython3",
   "version": "3.7.6"
  }
 },
 "nbformat": 4,
 "nbformat_minor": 4
}
